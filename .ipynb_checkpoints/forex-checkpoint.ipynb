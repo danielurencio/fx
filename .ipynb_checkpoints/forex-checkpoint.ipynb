{
 "cells": [
  {
   "cell_type": "markdown",
   "metadata": {},
   "source": [
    "# Forex Data Science with Python and MongoDB"
   ]
  },
  {
   "cell_type": "code",
   "execution_count": 1,
   "metadata": {},
   "outputs": [
    {
     "data": {
      "text/plain": [
       "{u'_id': ObjectId('59619e777db35e27f765b751'),\n",
       " u'ask': 1.32454,\n",
       " u'bid': 1.32439,\n",
       " u'currency': u'EUR/USD',\n",
       " u'day': 1,\n",
       " u'hour': 0,\n",
       " u'minutes': 0,\n",
       " u'month': 5,\n",
       " u'ms': 605,\n",
       " u'seconds': 0,\n",
       " u'year': 2009}"
      ]
     },
     "execution_count": 1,
     "metadata": {},
     "output_type": "execute_result"
    }
   ],
   "source": [
    "import pymongo\n",
    "import numpy as np\n",
    "import pandas as pd\n",
    "\n",
    "col = pymongo.MongoClient(\"mongodb://localhost:27017\").fx.EURUSD\n",
    "\n",
    "col.find_one()"
   ]
  },
  {
   "cell_type": "code",
   "execution_count": null,
   "metadata": {
    "collapsed": true
   },
   "outputs": [],
   "source": []
  }
 ],
 "metadata": {
  "kernelspec": {
   "display_name": "Python 2",
   "language": "python",
   "name": "python2"
  },
  "language_info": {
   "codemirror_mode": {
    "name": "ipython",
    "version": 2
   },
   "file_extension": ".py",
   "mimetype": "text/x-python",
   "name": "python",
   "nbconvert_exporter": "python",
   "pygments_lexer": "ipython2",
   "version": "2.7.12"
  }
 },
 "nbformat": 4,
 "nbformat_minor": 2
}
